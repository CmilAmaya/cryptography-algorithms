{
  "nbformat": 4,
  "nbformat_minor": 0,
  "metadata": {
    "colab": {
      "provenance": [],
      "authorship_tag": "ABX9TyMjek1CStzkQcgnEFyOjdOj",
      "include_colab_link": true
    },
    "kernelspec": {
      "name": "python3",
      "display_name": "Python 3"
    },
    "language_info": {
      "name": "python"
    }
  },
  "cells": [
    {
      "cell_type": "markdown",
      "metadata": {
        "id": "view-in-github",
        "colab_type": "text"
      },
      "source": [
        "<a href=\"https://colab.research.google.com/github/CmilAmaya/cryptography-algorithms/blob/main/Homophonic.ipynb\" target=\"_parent\"><img src=\"https://colab.research.google.com/assets/colab-badge.svg\" alt=\"Open In Colab\"/></a>"
      ]
    },
    {
      "cell_type": "code",
      "source": [
        "layout = {\n",
        "    \"A\": [9, 12, 33, 47, 53, 67, 78, 92],\n",
        "    \"B\": [48, 81],\n",
        "    \"C\": [13, 41, 62],\n",
        "    \"D\": [1, 3, 45, 79],\n",
        "    \"E\": [14, 16, 24, 44, 46, 55, 57, 64, 74, 82, 87, 98],\n",
        "    \"F\": [10, 31],\n",
        "    \"G\": [6, 25],\n",
        "    \"H\": [23, 39, 50, 56, 65, 68],\n",
        "    \"I\": [32, 70, 73, 83, 88, 93],\n",
        "    \"J\": [15],\n",
        "    \"K\": [4],\n",
        "    \"L\": [26, 37, 51, 84],\n",
        "    \"M\": [22, 27],\n",
        "    \"N\": [18, 58, 59, 66, 71, 91],\n",
        "    \"O\": [0, 5, 7, 54, 72, 90, 99],\n",
        "    \"P\": [38, 95],\n",
        "    \"Q\": [94],\n",
        "    \"R\": [29, 35, 40, 42, 77, 80],\n",
        "    \"S\": [11, 19, 36, 76, 86, 96],\n",
        "    \"T\": [17, 20, 30, 43, 49, 69, 75, 85, 97],\n",
        "    \"U\": [8, 61, 63],\n",
        "    \"V\": [34],\n",
        "    \"W\": [60, 89],\n",
        "    \"X\": [28],\n",
        "    \"Y\": [21, 52],\n",
        "    \"Z\": [2]\n",
        "}"
      ],
      "metadata": {
        "id": "pWLiFKixelE1"
      },
      "execution_count": 12,
      "outputs": []
    },
    {
      "cell_type": "code",
      "source": [
        "import random\n",
        "\n",
        "def homophonic_encryption(plain_text):\n",
        "  plain_text = plain_text.replace(\" \", \"\").upper()\n",
        "  encrypted_text = \"\"\n",
        "  for char in plain_text:\n",
        "    encrypted_text += str(random.choice(layout[char])) + \" \"\n",
        "  return encrypted_text.strip()"
      ],
      "metadata": {
        "id": "NGpaqT9If6pX"
      },
      "execution_count": 13,
      "outputs": []
    },
    {
      "cell_type": "code",
      "source": [
        "def homophonic_decryption(cypher_text):\n",
        "  cypher_text = cypher_text.strip()\n",
        "  cypher_text = filter(lambda x: x.strip() != \"\", cypher_text.split(\" \"))\n",
        "  cypher_text = list(map(int, cypher_text))\n",
        "  plain_text = \"\"\n",
        "  while cypher_text:\n",
        "    i = 0\n",
        "    number = cypher_text[i]\n",
        "    for key, value in layout.items():\n",
        "      if number in value:\n",
        "        plain_text += key\n",
        "        cypher_text.pop(0)\n",
        "        i+=1\n",
        "      else:\n",
        "        pass\n",
        "  return plain_text"
      ],
      "metadata": {
        "id": "57_5323kmnFg"
      },
      "execution_count": 14,
      "outputs": []
    },
    {
      "cell_type": "code",
      "execution_count": 17,
      "metadata": {
        "id": "90diaM1lHioM",
        "colab": {
          "base_uri": "https://localhost:8080/"
        },
        "outputId": "0352bc58-5361-48e7-cb24-62069134508b"
      },
      "outputs": [
        {
          "output_type": "stream",
          "name": "stdout",
          "text": [
            "Do you want to encrypt or decrypt? (e/d): d\n",
            "Enter the text to decrypt: 13 42 52 95 49 54 93 76 10 61 59\n",
            "Decrypted text: CRYPTOISFUN\n"
          ]
        }
      ],
      "source": [
        "decision = input(\"Do you want to encrypt or decrypt? (e/d): \")\n",
        "if(decision == \"e\"):\n",
        "  plain_text = input(\"Enter the text to encrypt: \")\n",
        "  print(\"Encrypted text:\", homophonic_encryption(plain_text))\n",
        "elif(decision == \"d\"):\n",
        "  cypher_text = input(\"Enter the text to decrypt: \")\n",
        "  print(\"Decrypted text:\", homophonic_decryption(cypher_text ))\n",
        "else:\n",
        "  print(\"Invalid input\")\n",
        "  exit()"
      ]
    }
  ]
}