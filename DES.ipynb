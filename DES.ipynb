{
  "cells": [
    {
      "cell_type": "markdown",
      "metadata": {
        "id": "view-in-github",
        "colab_type": "text"
      },
      "source": [
        "<a href=\"https://colab.research.google.com/github/CmilAmaya/cryptography-algorithms/blob/main/DES.ipynb\" target=\"_parent\"><img src=\"https://colab.research.google.com/assets/colab-badge.svg\" alt=\"Open In Colab\"/></a>"
      ]
    },
    {
      "cell_type": "code",
      "execution_count": 26,
      "metadata": {
        "colab": {
          "base_uri": "https://localhost:8080/"
        },
        "id": "Ufknlc91iJa8",
        "outputId": "b5faba79-402f-46b6-c7ed-45fa3b1c19cf"
      },
      "outputs": [
        {
          "output_type": "stream",
          "name": "stdout",
          "text": [
            "Requirement already satisfied: pyDes in /usr/local/lib/python3.12/dist-packages (2.0.1)\n"
          ]
        }
      ],
      "source": [
        "pip install pyDes"
      ]
    },
    {
      "cell_type": "code",
      "source": [
        "from pyDes import des, CBC, PAD_PKCS5\n",
        "import base64\n",
        "import os\n",
        "\n",
        "KEY = b\"12345678\"\n",
        "IV = b'\\x00\\x00\\x00\\x00\\x01\\x00\\x00\\x00'\n",
        "\n",
        "def set_des_environment():\n",
        "    return des(KEY, CBC, IV, pad=None, padmode=PAD_PKCS5)"
      ],
      "metadata": {
        "id": "zvsdV3GSZ9qV"
      },
      "execution_count": 27,
      "outputs": []
    },
    {
      "cell_type": "code",
      "execution_count": 28,
      "metadata": {
        "id": "52ae3507"
      },
      "outputs": [],
      "source": [
        "# Process image and file\n",
        "\n",
        "def read_image(file_path):\n",
        "    with open(file_path, \"rb\") as file:\n",
        "        return file.read()\n",
        "\n",
        "def encrypt_image(image_bytes):\n",
        "    des_env = set_des_environment()\n",
        "    return des_env.encrypt(image_bytes)\n",
        "\n",
        "def decrypt_image(encrypted_bytes):\n",
        "    des_env = set_des_environment()\n",
        "    return des_env.decrypt(encrypted_bytes)\n",
        "\n",
        "def save_file(data, output_path):\n",
        "    os.makedirs(os.path.dirname(output_path), exist_ok=True)\n",
        "    with open(output_path, \"wb\") as file:\n",
        "        file.write(data)\n",
        "    print(f\"File saved at: {output_path}\")\n"
      ]
    },
    {
      "cell_type": "code",
      "source": [
        "# Bytes - Base64\n",
        "\n",
        "def bytes_to_base64(image_bytes):\n",
        "    return base64.b64encode(image_bytes)\n",
        "\n",
        "def base64_to_bytes(encoded_bytes):\n",
        "    return base64.b64decode(encoded_bytes)"
      ],
      "metadata": {
        "id": "t5tpifKLZmkW"
      },
      "execution_count": 29,
      "outputs": []
    },
    {
      "cell_type": "code",
      "source": [
        "def main():\n",
        "    input_image_path = input(\"📁 Enter the path of the image to encrypt: \").strip()\n",
        "\n",
        "    if not os.path.exists(input_image_path):\n",
        "        print(\"Error: the image does not exist.\")\n",
        "        return\n",
        "\n",
        "    base_name = os.path.splitext(os.path.basename(input_image_path))[0]\n",
        "    encrypted_image_path = f\"encryptedImages/{base_name}_encrypted.txt\"\n",
        "    decrypted_image_path = f\"decryptedImages/{base_name}_decrypted.jpg\"\n",
        "    image_bytes = read_image(input_image_path)\n",
        "\n",
        "    print(\"Encrypting image...\")\n",
        "    encrypted_bytes = encrypt_image(image_bytes)\n",
        "\n",
        "    encoded_bytes = bytes_to_base64(encrypted_bytes)\n",
        "    print(\"Image base64:\")\n",
        "    print(encoded_bytes[:200], \"...\")\n",
        "\n",
        "    save_file(encoded_bytes, encrypted_image_path)\n",
        "\n",
        "    print(\"Decrypting imagen...\")\n",
        "    decoded_bytes = base64_to_bytes(encoded_bytes)\n",
        "    decrypted_bytes = decrypt_image(decoded_bytes)\n",
        "    save_file(decrypted_bytes, decrypted_image_path)\n",
        "\n",
        "    print(f\"➡️ Original Image:   {input_image_path}\")\n",
        "    print(f\"➡️ Encrypted Image:    {encrypted_image_path}\")\n",
        "    print(f\"➡️ Decrypted Image: {decrypted_image_path}\")"
      ],
      "metadata": {
        "id": "SRL6oGoCxwmX"
      },
      "execution_count": 25,
      "outputs": []
    },
    {
      "cell_type": "code",
      "source": [
        "main()"
      ],
      "metadata": {
        "colab": {
          "base_uri": "https://localhost:8080/"
        },
        "id": "p_oZB-sv2Qgu",
        "outputId": "41d3ac89-048d-4a92-ebb6-83080afd26ed"
      },
      "execution_count": 32,
      "outputs": [
        {
          "output_type": "stream",
          "name": "stdout",
          "text": [
            "📁 Enter the path of the image to encrypt: /content/vaaca - bc.jpg\n",
            "Encrypting image...\n",
            "Image base64:\n",
            "b'lAKcYPlt6D1enV7fxXx9CeAo/2doDU/1Bff2qKyaiHl+f94yW2tSt9/UXaKtOQABjzXX1xuAGGdeEnQDhsjQ/OEViHSY+YoDnYflRtb09cOTGoCHT77xubygLOgbrhq6INLcWNYCMp3tQDTraktTFsQK7AWryi9aIt46K8U4sfYErx5wYocMzsDwVlRV92jPmJw8Z5E+' ...\n",
            "File saved at: encryptedImages/vaaca - bc_encrypted.txt\n",
            "Decrypting imagen...\n",
            "File saved at: decryptedImages/vaaca - bc_decrypted.jpg\n",
            "➡️ Original Image:   /content/vaaca - bc.jpg\n",
            "➡️ Encrypted Image:    encryptedImages/vaaca - bc_encrypted.txt\n",
            "➡️ Decrypted Image: decryptedImages/vaaca - bc_decrypted.jpg\n"
          ]
        }
      ]
    }
  ],
  "metadata": {
    "colab": {
      "provenance": [],
      "authorship_tag": "ABX9TyO8X/fV+ZtRwdvagn9NEjMB",
      "include_colab_link": true
    },
    "kernelspec": {
      "display_name": "Python 3",
      "name": "python3"
    },
    "language_info": {
      "name": "python"
    }
  },
  "nbformat": 4,
  "nbformat_minor": 0
}