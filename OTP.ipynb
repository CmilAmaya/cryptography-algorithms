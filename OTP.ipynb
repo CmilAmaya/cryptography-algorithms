{
  "nbformat": 4,
  "nbformat_minor": 0,
  "metadata": {
    "colab": {
      "provenance": [],
      "authorship_tag": "ABX9TyM4xBNlX4Ovt3Zw+4lByzYg",
      "include_colab_link": true
    },
    "kernelspec": {
      "name": "python3",
      "display_name": "Python 3"
    },
    "language_info": {
      "name": "python"
    }
  },
  "cells": [
    {
      "cell_type": "markdown",
      "metadata": {
        "id": "view-in-github",
        "colab_type": "text"
      },
      "source": [
        "<a href=\"https://colab.research.google.com/github/CmilAmaya/cryptography-algorithms/blob/main/OTP.ipynb\" target=\"_parent\"><img src=\"https://colab.research.google.com/assets/colab-badge.svg\" alt=\"Open In Colab\"/></a>"
      ]
    },
    {
      "cell_type": "code",
      "source": [
        "alphabet=\"abcdefghijklmnopqrstuvwxyz\"\n",
        "alphabet=list(alphabet.lower())"
      ],
      "metadata": {
        "id": "kwpQUpP15lE1"
      },
      "execution_count": 1,
      "outputs": []
    },
    {
      "cell_type": "code",
      "source": [
        "def otp_encryption(plain_text, key):\n",
        "  global alphabet\n",
        "  cypher_text = \"\"\n",
        "  plain_text = list(plain_text.lower().replace(\" \", \"x\"))\n",
        "  key = list(key.lower())\n",
        "\n",
        "  if(len(plain_text) != len(key)):\n",
        "    return \"Error: plain text and key have to be the same lenght\"\n",
        "\n",
        "  for i in range(len(plain_text)):\n",
        "    index = (alphabet.index(plain_text[i]) + alphabet.index(key[i])) % len(alphabet)\n",
        "    cypher_text += alphabet[index]\n",
        "\n",
        "  return cypher_text"
      ],
      "metadata": {
        "id": "us3eY8q5_IIL"
      },
      "execution_count": 2,
      "outputs": []
    },
    {
      "cell_type": "code",
      "source": [
        "def otp_decryption(plain_text, key):\n",
        "  global alphabet\n",
        "  cypher_text = \"\"\n",
        "  plain_text = list(plain_text.lower().replace(\" \", \"x\"))\n",
        "  key = list(key.lower())\n",
        "\n",
        "  if(len(plain_text) != len(key)):\n",
        "    return \"Error: plain text and key have to be the same lenght\"\n",
        "\n",
        "  for i in range(len(plain_text)):\n",
        "    index = (alphabet.index(plain_text[i]) - alphabet.index(key[i])) % len(alphabet)\n",
        "    cypher_text += alphabet[index]\n",
        "\n",
        "  return cypher_text"
      ],
      "metadata": {
        "id": "2fkFKxvCA1Be"
      },
      "execution_count": 3,
      "outputs": []
    },
    {
      "cell_type": "code",
      "source": [
        "\n",
        "decision = input(\"Do you want to encrypt or decrypt? (e/d): \")\n",
        "if(decision == \"e\"):\n",
        "  plain_text = input(\"Enter the text to encrypt: \")\n",
        "  key = input(\"Enter the key text: \")\n",
        "  print(otp_encryption(plain_text, key))\n",
        "elif(decision == \"d\"):\n",
        "  plain_text = input(\"Enter the text to decrypt: \")\n",
        "  key = input(\"Enter the key text: \")\n",
        "  print(otp_decryption(plain_text, key))\n",
        "else:\n",
        "  print(\"Invalid input\")\n",
        "  exit()"
      ],
      "metadata": {
        "id": "f_rQQjUO5HtI",
        "colab": {
          "base_uri": "https://localhost:8080/"
        },
        "outputId": "65ca1f72-e29e-40d9-96d6-d23ec2a4f893"
      },
      "execution_count": 8,
      "outputs": [
        {
          "output_type": "stream",
          "name": "stdout",
          "text": [
            "Do you want to encrypt or decrypt? (e/d): d\n",
            "Enter the text to decrypt: hjzfero\n",
            "Enter the key text: abcdefg\n",
            "hixcami\n"
          ]
        }
      ]
    }
  ]
}