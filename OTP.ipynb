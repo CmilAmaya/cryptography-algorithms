{
  "nbformat": 4,
  "nbformat_minor": 0,
  "metadata": {
    "colab": {
      "provenance": [],
      "authorship_tag": "ABX9TyPGEjieiz4JWGtc9H4kCDNR",
      "include_colab_link": true
    },
    "kernelspec": {
      "name": "python3",
      "display_name": "Python 3"
    },
    "language_info": {
      "name": "python"
    }
  },
  "cells": [
    {
      "cell_type": "markdown",
      "metadata": {
        "id": "view-in-github",
        "colab_type": "text"
      },
      "source": [
        "<a href=\"https://colab.research.google.com/github/CmilAmaya/cryptography-algorithms/blob/main/OTP.ipynb\" target=\"_parent\"><img src=\"https://colab.research.google.com/assets/colab-badge.svg\" alt=\"Open In Colab\"/></a>"
      ]
    },
    {
      "cell_type": "code",
      "source": [
        "alphabet=\"abcdefghijklmnopqrstuvwxyz\""
      ],
      "metadata": {
        "id": "kwpQUpP15lE1"
      },
      "execution_count": 25,
      "outputs": []
    },
    {
      "cell_type": "code",
      "source": [
        "def otp_encryption(plain_text, key, alphabet):\n",
        "  cypher_text = \"\"\n",
        "  plain_text = list(plain_text.lower().replace(\" \", \"x\"))\n",
        "  key = list(key.lower())\n",
        "  alphabet = list(alphabet.lower())\n",
        "\n",
        "  if(len(plain_text) != len(key)):\n",
        "    return \"Error: plain text and key have to be the same lenght\"\n",
        "\n",
        "  for i in range(len(plain_text)):\n",
        "    index = (alphabet.index(plain_text[i]) + alphabet.index(key[i])) % len(alphabet)\n",
        "    cypher_text += alphabet[index]\n",
        "\n",
        "  return cypher_text"
      ],
      "metadata": {
        "id": "us3eY8q5_IIL"
      },
      "execution_count": 26,
      "outputs": []
    },
    {
      "cell_type": "code",
      "source": [
        "def otp_decryption(plain_text, key, alphabet):\n",
        "  cypher_text = \"\"\n",
        "  plain_text = list(plain_text.lower().replace(\" \", \"x\"))\n",
        "  key = list(key.lower())\n",
        "  alphabet = list(alphabet.lower())\n",
        "\n",
        "  if(len(plain_text) != len(key)):\n",
        "    return \"Error: plain text and key have to be the same lenght\"\n",
        "\n",
        "  for i in range(len(plain_text)):\n",
        "    index = (alphabet.index(plain_text[i]) - alphabet.index(key[i])) % len(alphabet)\n",
        "    cypher_text += alphabet[index]\n",
        "\n",
        "  return cypher_text"
      ],
      "metadata": {
        "id": "2fkFKxvCA1Be"
      },
      "execution_count": 27,
      "outputs": []
    },
    {
      "cell_type": "code",
      "source": [
        "\n",
        "decision = input(\"Do you want to encrypt or decrypt? (e/d): \")\n",
        "if(decision == \"e\"):\n",
        "  plain_text = input(\"Enter the text to encrypt: \")\n",
        "  key = input(\"Enter the key text: \")\n",
        "  print(otp_encryption(plain_text, key, alphabet))\n",
        "elif(decision == \"d\"):\n",
        "  plain_text = input(\"Enter the text to decrypt: \")\n",
        "  key = input(\"Enter the key text: \")\n",
        "  print(otp_decryption(plain_text, key, alphabet))\n",
        "else:\n",
        "  print(\"Invalid input\")\n",
        "  exit()"
      ],
      "metadata": {
        "colab": {
          "base_uri": "https://localhost:8080/"
        },
        "id": "f_rQQjUO5HtI",
        "outputId": "ea601c37-8fa3-48f7-8238-ab9a056075e2"
      },
      "execution_count": 28,
      "outputs": [
        {
          "output_type": "stream",
          "name": "stdout",
          "text": [
            "Do you want to encrypt or decrypt? (e/d): d\n",
            "Enter the text to decrypt: mbtlecihurvl\n",
            "Enter the key text: abcdefghijkl\n",
            "mariaxcamila\n"
          ]
        }
      ]
    }
  ]
}