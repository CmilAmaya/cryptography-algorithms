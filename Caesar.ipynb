{
  "nbformat": 4,
  "nbformat_minor": 0,
  "metadata": {
    "colab": {
      "provenance": [],
      "authorship_tag": "ABX9TyMPEdFgA7u3wTJJ9FQq/9+s",
      "include_colab_link": true
    },
    "kernelspec": {
      "name": "python3",
      "display_name": "Python 3"
    },
    "language_info": {
      "name": "python"
    }
  },
  "cells": [
    {
      "cell_type": "markdown",
      "metadata": {
        "id": "view-in-github",
        "colab_type": "text"
      },
      "source": [
        "<a href=\"https://colab.research.google.com/github/CmilAmaya/cryptography-algorithms/blob/main/Caesar.ipynb\" target=\"_parent\"><img src=\"https://colab.research.google.com/assets/colab-badge.svg\" alt=\"Open In Colab\"/></a>"
      ]
    },
    {
      "cell_type": "code",
      "source": [
        "alphabet=\"abcdefghijklmnopqrstuvwxyz\"\n",
        "alphabet=list(alphabet)"
      ],
      "metadata": {
        "id": "2WjX7CMvSSSI"
      },
      "execution_count": 15,
      "outputs": []
    },
    {
      "cell_type": "code",
      "source": [
        "def caesar_cipher_encrypt(plain_text, key):\n",
        "  global alphabet\n",
        "  array = list(plain_text.lower().replace(\" \", \"x\"))\n",
        "  result = \"\"\n",
        "  for i in range(len(array)):\n",
        "    index = ((alphabet.index(array[i]) + key) % len(alphabet))\n",
        "    result += alphabet[index]\n",
        "  return result"
      ],
      "metadata": {
        "id": "Uw4UW5qYVLjq"
      },
      "execution_count": 16,
      "outputs": []
    },
    {
      "cell_type": "code",
      "source": [
        "def caesar_cipher_decrypt(plain_text, key):\n",
        "  global alphabet\n",
        "  array = list(plain_text.lower().replace(\" \", \"x\"))\n",
        "  result = \"\"\n",
        "  for i in range(len(array)):\n",
        "    index = ((alphabet.index(array[i]) - key) % len(alphabet))\n",
        "    result += alphabet[index]\n",
        "  return result"
      ],
      "metadata": {
        "id": "Jx9hwB1SVO5j"
      },
      "execution_count": 17,
      "outputs": []
    },
    {
      "cell_type": "code",
      "source": [
        "decision = input(\"Do you want to encrypt or decrypt? (e/d): \")\n",
        "if(decision == \"e\"):\n",
        "  plain_text = input(\"Enter the text to encrypt: \")\n",
        "  key = int(input(\"Enter the key: \"))\n",
        "  print(caesar_cipher_encrypt(plain_text, key))\n",
        "elif(decision == \"d\"):\n",
        "  plain_text = input(\"Enter the text to decrypt: \")\n",
        "  key = int(input(\"Enter the key: \"))\n",
        "  print(caesar_cipher_decrypt(plain_text, key))\n",
        "else:\n",
        "  print(\"Invalid input\")\n",
        "  exit()"
      ],
      "metadata": {
        "id": "UIj0CCL_VSPI",
        "colab": {
          "base_uri": "https://localhost:8080/"
        },
        "outputId": "a6d57d1c-f407-4265-fbe8-7cc32e129848"
      },
      "execution_count": 20,
      "outputs": [
        {
          "output_type": "stream",
          "name": "stdout",
          "text": [
            "Do you want to encrypt or decrypt? (e/d): d\n",
            "Enter the text to decrypt: ymnxcrjxxfljcnxcjshwduyji\n",
            "Enter the key: 5\n",
            "thisxmessagexisxencrypted\n"
          ]
        }
      ]
    }
  ]
}