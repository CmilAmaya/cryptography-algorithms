{
  "nbformat": 4,
  "nbformat_minor": 0,
  "metadata": {
    "colab": {
      "provenance": [],
      "authorship_tag": "ABX9TyMvFSAw08cu8obomOC0vcFq",
      "include_colab_link": true
    },
    "kernelspec": {
      "name": "python3",
      "display_name": "Python 3"
    },
    "language_info": {
      "name": "python"
    }
  },
  "cells": [
    {
      "cell_type": "markdown",
      "metadata": {
        "id": "view-in-github",
        "colab_type": "text"
      },
      "source": [
        "<a href=\"https://colab.research.google.com/github/CmilAmaya/cryptography-algorithms/blob/main/Hill.ipynb\" target=\"_parent\"><img src=\"https://colab.research.google.com/assets/colab-badge.svg\" alt=\"Open In Colab\"/></a>"
      ]
    },
    {
      "cell_type": "code",
      "execution_count": null,
      "metadata": {
        "id": "ehR2GqXfpwUT"
      },
      "outputs": [],
      "source": [
        "import numpy as np\n",
        "import math"
      ]
    },
    {
      "cell_type": "code",
      "source": [
        "alphabet=\"abcdefghijklmnopqrstuvwxyz\"\n",
        "alphabet=list(alphabet)"
      ],
      "metadata": {
        "id": "5BllKdTn6AV8"
      },
      "execution_count": null,
      "outputs": []
    },
    {
      "cell_type": "code",
      "source": [
        "import numpy as np\n",
        "import math\n",
        "\n",
        "def verify_matrix(key):\n",
        "  matrix_elements_str = key.split()\n",
        "  matrix_list = [int(element) for element in matrix_elements_str]\n",
        "\n",
        "  if len(matrix_list) % 2 != 0:\n",
        "      matrix_list.append(\"x\")\n",
        "\n",
        "  matrix = np.array(matrix_list).reshape(2, 2)\n",
        "  determinant = np.linalg.det(matrix)\n",
        "\n",
        "  if np.isclose(determinant, round(determinant)):\n",
        "      determinant = int(round(determinant))\n",
        "  else:\n",
        "      raise ValueError(\"The determinant is not an integer.\")\n",
        "\n",
        "  if determinant == 0:\n",
        "      raise ValueError(\"The matrix cannot have a determinant of 0\")\n",
        "  if math.gcd(determinant, 26) != 1:\n",
        "      raise ValueError(\"The determinant is not coprime with 26; the matrix is invalid for Hill Cipher\")\n",
        "\n",
        "  return matrix"
      ],
      "metadata": {
        "id": "gP4vowBcqB-S"
      },
      "execution_count": null,
      "outputs": []
    },
    {
      "cell_type": "code",
      "source": [
        "import numpy as np\n",
        "\n",
        "def find_inverse(matrix):\n",
        "    a, b = matrix[0]\n",
        "    c, d = matrix[1]\n",
        "    det = (a*d - b*c) % 26\n",
        "    det_inv = pow(int(det), -1, 26)\n",
        "    inv_matrix = np.array([[d, -b], [-c, a]]) * det_inv\n",
        "    return np.mod(inv_matrix, 26)"
      ],
      "metadata": {
        "id": "E6-X5Q9kvfB0"
      },
      "execution_count": null,
      "outputs": []
    },
    {
      "cell_type": "code",
      "source": [
        "def prepare_text(text):\n",
        "  global alphabet\n",
        "  text = list(text.lower().replace(\" \", \"\"))\n",
        "  numbers = [alphabet.index(x) for x in text]\n",
        "\n",
        "  if(len(list(text)) % 2 != 0):\n",
        "    text.append(\"x\")\n",
        "\n",
        "  matrix_number = np.array(numbers).reshape(len(numbers)//2, 2)\n",
        "  return matrix_number\n"
      ],
      "metadata": {
        "id": "rGwr8Elew7Kv"
      },
      "execution_count": null,
      "outputs": []
    },
    {
      "cell_type": "code",
      "source": [
        "def hill_algorithm(matrix_numbers, matrix_key):\n",
        "  global alphabet\n",
        "  final_matrix = []\n",
        "  text = \"\"\n",
        "  for row in matrix_numbers:\n",
        "    matrix = np.dot(row, matrix_key)\n",
        "    final_matrix.append(matrix)\n",
        "  for row in np.mod(final_matrix, 26):\n",
        "    for column in row:\n",
        "      text += alphabet[int(column)]\n",
        "  return text"
      ],
      "metadata": {
        "id": "iNaY6P0n2FvZ"
      },
      "execution_count": null,
      "outputs": []
    },
    {
      "cell_type": "markdown",
      "source": [],
      "metadata": {
        "id": "SXpB343cr7R3"
      }
    },
    {
      "cell_type": "code",
      "source": [
        "decision = input(\"Do you want to encrypt or decrypt? (e/d): \")\n",
        "if(decision == \"e\"):\n",
        "  plain_text = input(\"Enter the text to encrypt: \")\n",
        "  key = input(\"Enter the key: \")\n",
        "  matrix_key = verify_matrix(key)\n",
        "  matrix_numbers = prepare_text(plain_text)\n",
        "  print(hill_algorithm(matrix_numbers, matrix_key))\n",
        "elif(decision == \"d\"):\n",
        "  cypher_text = input(\"Enter the text to encrypt: \")\n",
        "  key = input(\"Enter the key: \")\n",
        "  matrix_key = verify_matrix(key)\n",
        "  matrix_inverse = find_inverse(matrix_key)\n",
        "  matrix_numbers = prepare_text(cypher_text)\n",
        "  print(hill_algorithm(matrix_numbers, matrix_inverse))\n",
        "else:\n",
        "  print(\"Invalid input\")\n",
        "  exit()"
      ],
      "metadata": {
        "colab": {
          "base_uri": "https://localhost:8080/"
        },
        "id": "f906PFaUq5J0",
        "outputId": "e9465a50-8def-466d-9b8f-78ae477fec7d"
      },
      "execution_count": null,
      "outputs": [
        {
          "output_type": "stream",
          "name": "stdout",
          "text": [
            "Do you want to encrypt or decrypt? (e/d): d\n",
            "Enter the text to encrypt: vkfzrvwtiazsmisgka\n",
            "Enter the key: 11 8 3 7\n",
            "numbertheoryiseasy\n"
          ]
        }
      ]
    }
  ]
}