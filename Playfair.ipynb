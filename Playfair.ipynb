{
  "nbformat": 4,
  "nbformat_minor": 0,
  "metadata": {
    "colab": {
      "provenance": [],
      "authorship_tag": "ABX9TyPMCa2Av17KyGMC5N6LBXRw",
      "include_colab_link": true
    },
    "kernelspec": {
      "name": "python3",
      "display_name": "Python 3"
    },
    "language_info": {
      "name": "python"
    }
  },
  "cells": [
    {
      "cell_type": "markdown",
      "metadata": {
        "id": "view-in-github",
        "colab_type": "text"
      },
      "source": [
        "<a href=\"https://colab.research.google.com/github/CmilAmaya/cryptography-algorithms/blob/main/Playfair.ipynb\" target=\"_parent\"><img src=\"https://colab.research.google.com/assets/colab-badge.svg\" alt=\"Open In Colab\"/></a>"
      ]
    },
    {
      "cell_type": "code",
      "source": [
        "import string\n",
        "\n",
        "def create_list(key):\n",
        "    key = key.lower().replace(\" \", \"\")\n",
        "    letters_list = []\n",
        "    seen = set()\n",
        "\n",
        "    for ch in key:\n",
        "        if ch == \"j\":\n",
        "            ch = \"i\"\n",
        "        if ch not in seen and ch in string.ascii_lowercase:\n",
        "            seen.add(ch)\n",
        "            letters_list.append(ch)\n",
        "\n",
        "    for ch in string.ascii_lowercase:\n",
        "        if ch == \"j\":\n",
        "            continue\n",
        "        if ch not in seen:\n",
        "            seen.add(ch)\n",
        "            letters_list.append(ch)\n",
        "\n",
        "    return letters_list"
      ],
      "metadata": {
        "id": "T-UMxbbLOHQc"
      },
      "execution_count": 76,
      "outputs": []
    },
    {
      "cell_type": "code",
      "source": [
        "def create_matrix(letters_list):\n",
        "  matrix = []\n",
        "  for i in range(5):\n",
        "    row = letters_list[i*5 : (i+1)*5]\n",
        "    matrix.append(row)\n",
        "  return matrix"
      ],
      "metadata": {
        "id": "Mumy5R5aLl3H"
      },
      "execution_count": 77,
      "outputs": []
    },
    {
      "cell_type": "code",
      "source": [
        "def playfair_encryption(plain_text, key):\n",
        "    result = \"\"\n",
        "    plain_text = plain_text.lower().replace(\" \", \"\").replace(\"j\", \"i\")\n",
        "\n",
        "    i = 0\n",
        "    pairs = []\n",
        "    while i < len(plain_text):\n",
        "        a = plain_text[i]\n",
        "        b = \"\"\n",
        "        if i+1 < len(plain_text):\n",
        "            b = plain_text[i+1]\n",
        "        if a == b:\n",
        "            pairs.append((a, \"x\"))\n",
        "            i += 1\n",
        "        else:\n",
        "            if b:\n",
        "                pairs.append((a, b))\n",
        "                i += 2\n",
        "            else:\n",
        "                pairs.append((a, \"x\"))\n",
        "                i += 1\n",
        "\n",
        "    letters_list = create_list(key)\n",
        "    matrix = create_matrix(letters_list)\n",
        "\n",
        "    for a, b in pairs:\n",
        "        pos_a, pos_b = None, None\n",
        "        for r, row in enumerate(matrix):\n",
        "            if a in row:\n",
        "                pos_a = (r, row.index(a))\n",
        "            if b in row:\n",
        "                pos_b = (r, row.index(b))\n",
        "\n",
        "        ra, ca = pos_a\n",
        "        rb, cb = pos_b\n",
        "\n",
        "        if ra == rb:\n",
        "            result += matrix[ra][(ca+1)%5] + matrix[rb][(cb+1)%5]\n",
        "        elif ca == cb:\n",
        "            result += matrix[(ra+1)%5][ca] + matrix[(rb+1)%5][cb]\n",
        "        else:\n",
        "            result += matrix[ra][cb] + matrix[rb][ca]\n",
        "\n",
        "    return result\n"
      ],
      "metadata": {
        "id": "ISaalozAQf6K"
      },
      "execution_count": 78,
      "outputs": []
    },
    {
      "cell_type": "code",
      "source": [
        "def playfair_decryption(cipher_text, key):\n",
        "    result = \"\"\n",
        "    cipher_text = cipher_text.lower().replace(\" \", \"\").replace(\"j\", \"i\")\n",
        "\n",
        "    letters_list = create_list(key)\n",
        "    matrix = create_matrix(letters_list)\n",
        "\n",
        "    i = 0\n",
        "    while i < len(cipher_text):\n",
        "        a, b = cipher_text[i], cipher_text[i+1]\n",
        "\n",
        "        pos_a, pos_b = None, None\n",
        "        for r, row in enumerate(matrix):\n",
        "            if a in row:\n",
        "                pos_a = (r, row.index(a))\n",
        "            if b in row:\n",
        "                pos_b = (r, row.index(b))\n",
        "\n",
        "        ra, ca = pos_a\n",
        "        rb, cb = pos_b\n",
        "\n",
        "        if ra == rb:\n",
        "            result += matrix[ra][(ca-1)%5] + matrix[rb][(cb-1)%5]\n",
        "        elif ca == cb:\n",
        "            result += matrix[(ra-1)%5][ca] + matrix[(rb-1)%5][cb]\n",
        "        else:\n",
        "            result += matrix[ra][cb] + matrix[rb][ca]\n",
        "\n",
        "        i += 2\n",
        "\n",
        "    return result"
      ],
      "metadata": {
        "id": "QGNuNkEkCZAI"
      },
      "execution_count": 79,
      "outputs": []
    },
    {
      "cell_type": "code",
      "source": [
        "decision = input(\"Do you want to encrypt or decrypt? (e/d): \")\n",
        "if(decision == \"e\"):\n",
        "  plain_text = input(\"Enter the text to encrypt: \")\n",
        "  key = input(\"Enter the key: \")\n",
        "  print(playfair_encryption(plain_text, key))\n",
        "elif(decision == \"d\"):\n",
        "  plain_text = input(\"Enter the text to decrypt: \")\n",
        "  key = input(\"Enter the key: \")\n",
        "  print(playfair_decryption(plain_text, key))\n",
        "else:\n",
        "  print(\"Invalid input\")\n",
        "  exit()"
      ],
      "metadata": {
        "colab": {
          "base_uri": "https://localhost:8080/"
        },
        "id": "n_WPlPxNQReS",
        "outputId": "49e3fe72-0fdd-4b7a-a0b2-66a5ba3ab4d6"
      },
      "execution_count": 82,
      "outputs": [
        {
          "output_type": "stream",
          "name": "stdout",
          "text": [
            "Do you want to encrypt or decrypt? (e/d): d\n",
            "Enter the text to decrypt: yngukgxrprhfguhkdcvtphrz\n",
            "Enter the key: abracadabra\n",
            "thismesxsageisencryptedx\n"
          ]
        }
      ]
    }
  ]
}