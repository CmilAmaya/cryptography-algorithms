{
  "nbformat": 4,
  "nbformat_minor": 0,
  "metadata": {
    "colab": {
      "provenance": [],
      "authorship_tag": "ABX9TyM8BrGnvm2MSvUwJFkk+8hc",
      "include_colab_link": true
    },
    "kernelspec": {
      "name": "python3",
      "display_name": "Python 3"
    },
    "language_info": {
      "name": "python"
    }
  },
  "cells": [
    {
      "cell_type": "markdown",
      "metadata": {
        "id": "view-in-github",
        "colab_type": "text"
      },
      "source": [
        "<a href=\"https://colab.research.google.com/github/CmilAmaya/cryptography-algorithms/blob/main/Vigen%C3%A8re.ipynb\" target=\"_parent\"><img src=\"https://colab.research.google.com/assets/colab-badge.svg\" alt=\"Open In Colab\"/></a>"
      ]
    },
    {
      "cell_type": "code",
      "source": [
        "alphabet=\"abcdefghijklmnopqrstuvwxyz\"\n",
        "alphabet=list(alphabet)"
      ],
      "metadata": {
        "id": "lKDoXRmFwusX"
      },
      "execution_count": 16,
      "outputs": []
    },
    {
      "cell_type": "code",
      "source": [
        "def prepare_key(key, plain_text):\n",
        "  last_key = []\n",
        "  for i in range(len(plain_text)):\n",
        "     last_key.append(key[i % len(key)])\n",
        "  return last_key"
      ],
      "metadata": {
        "id": "WEgOX56OveJD"
      },
      "execution_count": 15,
      "outputs": []
    },
    {
      "cell_type": "code",
      "execution_count": 55,
      "metadata": {
        "id": "HBHE386fsV1k"
      },
      "outputs": [],
      "source": [
        "def encrypt_vigenere(key, t, plain_text):\n",
        "  global alphabet\n",
        "  plain_text = list(plain_text.lower().replace(\" \", \"\"))\n",
        "  key = list(key.lower().replace(\" \", \"\"))\n",
        "  last_key = prepare_key(key, plain_text)\n",
        "  cypher_text = \"\"\n",
        "\n",
        "  for i in range(len(plain_text)):\n",
        "    index = (alphabet.index(plain_text[i]) + alphabet.index(last_key[i])) % 26\n",
        "    cypher_text += alphabet[index]\n",
        "  return cypher_text\n"
      ]
    },
    {
      "cell_type": "code",
      "source": [
        "def decrypt_vigenere(key, t, cypher_text):\n",
        "  global alphabet\n",
        "  cypher_text = list(cypher_text.lower().replace(\" \", \"\"))\n",
        "  key = list(key.lower().replace(\" \", \"\"))\n",
        "  last_key = prepare_key(key, cypher_text)\n",
        "  plain_text = \"\"\n",
        "\n",
        "  for i in range(len(cypher_text)):\n",
        "    index_cypher = alphabet.index(cypher_text[i])\n",
        "    index_key = alphabet.index(last_key[i])\n",
        "    if index_cypher < index_key:\n",
        "      index = 26 - alphabet.index(last_key[i]) + alphabet.index(cypher_text[i])\n",
        "    else:\n",
        "      index = alphabet.index(cypher_text[i]) - alphabet.index(last_key[i])\n",
        "    plain_text += alphabet[index]\n",
        "  return plain_text"
      ],
      "metadata": {
        "id": "RM3ZWbv6s1AG"
      },
      "execution_count": 54,
      "outputs": []
    },
    {
      "cell_type": "code",
      "source": [
        "print(\"salida 2\", decrypt_vigenere(\"relations\", 3, \"ksmehzbb\"))"
      ],
      "metadata": {
        "colab": {
          "base_uri": "https://localhost:8080/"
        },
        "id": "TRtvzfow4XT0",
        "outputId": "0c3bfce9-5dd6-4b5f-a6c0-fe1addff3024"
      },
      "execution_count": 53,
      "outputs": [
        {
          "output_type": "stream",
          "name": "stdout",
          "text": [
            "alla: 17 10\n",
            "aqui: 4 18\n",
            "aqui: 11 12\n",
            "aqui: 0 4\n",
            "alla: 19 7\n",
            "aqui: 8 25\n",
            "alla: 14 1\n",
            "alla: 13 1\n",
            "salida 2 tobeorno\n"
          ]
        }
      ]
    }
  ]
}