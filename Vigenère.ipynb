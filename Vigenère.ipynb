{
  "nbformat": 4,
  "nbformat_minor": 0,
  "metadata": {
    "colab": {
      "provenance": [],
      "authorship_tag": "ABX9TyO2gUhvL9zg27rv0RWdpN9s",
      "include_colab_link": true
    },
    "kernelspec": {
      "name": "python3",
      "display_name": "Python 3"
    },
    "language_info": {
      "name": "python"
    }
  },
  "cells": [
    {
      "cell_type": "markdown",
      "metadata": {
        "id": "view-in-github",
        "colab_type": "text"
      },
      "source": [
        "<a href=\"https://colab.research.google.com/github/CmilAmaya/cryptography-algorithms/blob/main/Vigen%C3%A8re.ipynb\" target=\"_parent\"><img src=\"https://colab.research.google.com/assets/colab-badge.svg\" alt=\"Open In Colab\"/></a>"
      ]
    },
    {
      "cell_type": "code",
      "source": [
        "alphabet=\"abcdefghijklmnopqrstuvwxyz\"\n",
        "alphabet=list(alphabet)"
      ],
      "metadata": {
        "id": "lKDoXRmFwusX"
      },
      "execution_count": 12,
      "outputs": []
    },
    {
      "cell_type": "code",
      "source": [
        "def prepare_key(plain_text, key):\n",
        "  last_key = []\n",
        "  for i in range(len(plain_text)):\n",
        "     last_key.append(key[i % len(key)])\n",
        "  return last_key"
      ],
      "metadata": {
        "id": "WEgOX56OveJD"
      },
      "execution_count": 11,
      "outputs": []
    },
    {
      "cell_type": "code",
      "source": [
        "def format_text_in_columns(text, num_columns):\n",
        "    formatted_text = \"\"\n",
        "    for i in range(0, len(text), num_columns):\n",
        "        formatted_text += text[i:i+num_columns] + \" \"\n",
        "    return formatted_text.strip()"
      ],
      "metadata": {
        "id": "P3LlAF9rdXLN"
      },
      "execution_count": 15,
      "outputs": []
    },
    {
      "cell_type": "code",
      "execution_count": 24,
      "metadata": {
        "id": "HBHE386fsV1k"
      },
      "outputs": [],
      "source": [
        "def encrypt_vigenere(plain_text, key, t):\n",
        "  global alphabet\n",
        "  plain_text = list(plain_text.lower().replace(\" \", \"\"))\n",
        "  key = list(key.lower().replace(\" \", \"\"))\n",
        "  last_key = prepare_key(plain_text, key)\n",
        "  cypher_text = \"\"\n",
        "\n",
        "  for i in range(len(plain_text)):\n",
        "    index = (alphabet.index(plain_text[i]) + alphabet.index(last_key[i])) % 26\n",
        "    cypher_text += alphabet[index]\n",
        "\n",
        "  cypher_text = format_text_in_columns(cypher_text, t)\n",
        "  return cypher_text\n"
      ]
    },
    {
      "cell_type": "code",
      "source": [
        "def decrypt_vigenere(cypher_text, key):\n",
        "  global alphabet\n",
        "  cypher_text = list(cypher_text.lower().replace(\" \", \"\"))\n",
        "  key = list(key.lower().replace(\" \", \"\"))\n",
        "  last_key = prepare_key(cypher_text, key)\n",
        "  plain_text = \"\"\n",
        "\n",
        "  for i in range(len(cypher_text)):\n",
        "    index_cypher = alphabet.index(cypher_text[i])\n",
        "    index_key = alphabet.index(last_key[i])\n",
        "    if index_cypher < index_key:\n",
        "      index = 26 - alphabet.index(last_key[i]) + alphabet.index(cypher_text[i])\n",
        "    else:\n",
        "      index = alphabet.index(cypher_text[i]) - alphabet.index(last_key[i])\n",
        "    plain_text += alphabet[index]\n",
        "\n",
        "  plain_text = format_text_in_columns(plain_text, t)\n",
        "  return plain_text"
      ],
      "metadata": {
        "id": "RM3ZWbv6s1AG"
      },
      "execution_count": 25,
      "outputs": []
    },
    {
      "cell_type": "code",
      "source": [
        "decision = input(\"Do you want to encrypt or decrypt? (e/d): \")\n",
        "\n",
        "if(decision == \"e\"):\n",
        "  plain_text = input(\"Enter the text to encrypt: \")\n",
        "  key = input(\"Enter the key: \")\n",
        "  t = int(input(\"Enter the number of columns: \"))\n",
        "  print(encrypt_vigenere(plain_text, key, t))\n",
        "\n",
        "elif(decision == \"d\"):\n",
        "  cypher_text = input(\"Enter the text to decrypt: \")\n",
        "  key = input(\"Enter the key: \")\n",
        "  t = int(input(\"Enter the number of columns: \"))\n",
        "  print(decrypt_vigenere(cypher_text, key))\n",
        "\n",
        "else:\n",
        "  print(\"Invalid input\")\n",
        "  exit()"
      ],
      "metadata": {
        "colab": {
          "base_uri": "https://localhost:8080/"
        },
        "id": "TRtvzfow4XT0",
        "outputId": "679e0072-245b-4f3f-8447-33ef7b9cc9a6"
      },
      "execution_count": 31,
      "outputs": [
        {
          "output_type": "stream",
          "name": "stdout",
          "text": [
            "Do you want to encrypt or decrypt? (e/d): d\n",
            "Enter the text to decrypt: vyc gxw urq tvf gkn plg cxc qxv keb ias rza inf gwp pfs\n",
            "Enter the key: crypto\n",
            "Enter the number of columns: 3\n",
            "the rei sas ecr etp ass age beh ind the pic tur efr ame\n"
          ]
        }
      ]
    },
    {
      "cell_type": "code",
      "source": [],
      "metadata": {
        "id": "ezCITS2yc6Le"
      },
      "execution_count": null,
      "outputs": []
    }
  ]
}