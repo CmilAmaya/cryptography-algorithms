{
  "nbformat": 4,
  "nbformat_minor": 0,
  "metadata": {
    "colab": {
      "provenance": [],
      "authorship_tag": "ABX9TyOS1egQmkVQ5ZDL8sUbNvFu",
      "include_colab_link": true
    },
    "kernelspec": {
      "name": "python3",
      "display_name": "Python 3"
    },
    "language_info": {
      "name": "python"
    }
  },
  "cells": [
    {
      "cell_type": "markdown",
      "metadata": {
        "id": "view-in-github",
        "colab_type": "text"
      },
      "source": [
        "<a href=\"https://colab.research.google.com/github/CmilAmaya/cryptography-algorithms/blob/main/Turning_Grill.ipynb\" target=\"_parent\"><img src=\"https://colab.research.google.com/assets/colab-badge.svg\" alt=\"Open In Colab\"/></a>"
      ]
    },
    {
      "cell_type": "code",
      "execution_count": 2,
      "metadata": {
        "id": "jqYpje_-AWf-"
      },
      "outputs": [],
      "source": [
        "def rotate_holes(holes, n, direction):\n",
        "    rotated = []\n",
        "    for (i, j) in holes:\n",
        "        if direction == 1:\n",
        "            rotated.append((j, n - 1 - i))\n",
        "        else:\n",
        "            rotated.append((n - 1 - j, i))\n",
        "    return rotated"
      ]
    },
    {
      "cell_type": "code",
      "source": [
        "def turning_grille_encrypt(n, direction, holes, plaintext):\n",
        "    grid = [['' for _ in range(n)] for _ in range(n)]\n",
        "    plaintext = list(plaintext.replace(\" \", \"\").upper())\n",
        "    idx = 0\n",
        "\n",
        "    for _ in range(4):\n",
        "        for (i, j) in holes:\n",
        "            if idx < len(plaintext):\n",
        "                grid[i][j] = plaintext[idx]\n",
        "                idx += 1\n",
        "        holes = rotate_holes(holes, n, direction)\n",
        "\n",
        "    return ''.join([''.join(row) for row in grid])"
      ],
      "metadata": {
        "id": "hvp9vgMvAZRv"
      },
      "execution_count": 3,
      "outputs": []
    },
    {
      "cell_type": "code",
      "source": [
        "def turning_grille_decrypt(n, direction, holes, ciphertext):\n",
        "    grid = [['' for _ in range(n)] for _ in range(n)]\n",
        "    ciphertext = list(ciphertext.replace(\" \", \"\").upper())\n",
        "    idx = 0\n",
        "\n",
        "    for i in range(n):\n",
        "        for j in range(n):\n",
        "            grid[i][j] = ciphertext[idx]\n",
        "            idx += 1\n",
        "\n",
        "    result = []\n",
        "    for _ in range(4):\n",
        "        for (i, j) in holes:\n",
        "            result.append(grid[i][j])\n",
        "        holes = rotate_holes(holes, n, direction)\n",
        "\n",
        "    return ''.join(result)"
      ],
      "metadata": {
        "id": "Hv1UiEYAAhJT"
      },
      "execution_count": 4,
      "outputs": []
    },
    {
      "cell_type": "code",
      "source": [
        "decision = input(\"Do you want to encrypt or decrypt? (e/d): \")\n",
        "\n",
        "n = int(input(\"Enter the grid size (e.g., 4 for a 4x4 grid): \"))\n",
        "direction = int(input(\"Enter rotation direction (1 = clockwise, 0 = counterclockwise): \"))\n",
        "holes_input = input(\"Enter hole positions as a list of tuples such as [(0,0),(1,2),(2,3),(3,1)]: \")\n",
        "holes = eval(holes_input)\n",
        "\n",
        "if decision == \"e\":\n",
        "    plain_text = input(\"Enter the text to encrypt: \")\n",
        "    print(\"Encrypted text:\", turning_grille_encrypt(n, direction, holes, plain_text))\n",
        "elif decision == \"d\":\n",
        "    cipher_text = input(\"Enter the text to decrypt: \")\n",
        "    print(\"Decrypted text:\", turning_grille_decrypt(n, direction, holes, cipher_text))\n",
        "else:\n",
        "    print(\"Invalid input\")"
      ],
      "metadata": {
        "colab": {
          "base_uri": "https://localhost:8080/"
        },
        "id": "4NqRe3eVAnIt",
        "outputId": "7e8bc5a3-a6eb-4b1e-f447-1aa74999acaa"
      },
      "execution_count": 13,
      "outputs": [
        {
          "output_type": "stream",
          "name": "stdout",
          "text": [
            "Do you want to encrypt or decrypt? (e/d): d\n",
            "Enter the grid size (e.g., 4 for a 4x4 grid): 4\n",
            "Enter rotation direction (1 = clockwise, 0 = counterclockwise): 1\n",
            "Enter hole positions as a list of tuples such as [(0,0),(1,2),(2,3),(3,1)]: [(0,0),(1,1),(2,3),(3,2)]\n",
            "Enter the text to decrypt: JTWTAITNCASMDAAK\n",
            "Decrypted text: JIMATTACKSATDAWN\n"
          ]
        }
      ]
    },
    {
      "cell_type": "markdown",
      "source": [
        "JTWTAITNCASMDAAK\n",
        "[(0,0),(1,1),(2,3),(3,2)]\n",
        "\n"
      ],
      "metadata": {
        "id": "I9eHKpPCJhCY"
      }
    }
  ]
}